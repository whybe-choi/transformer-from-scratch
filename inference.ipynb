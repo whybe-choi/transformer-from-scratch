{
 "cells": [
  {
   "cell_type": "code",
   "execution_count": 1,
   "metadata": {},
   "outputs": [
    {
     "name": "stderr",
     "output_type": "stream",
     "text": [
      "/opt/conda/lib/python3.10/site-packages/tqdm/auto.py:21: TqdmWarning: IProgress not found. Please update jupyter and ipywidgets. See https://ipywidgets.readthedocs.io/en/stable/user_install.html\n",
      "  from .autonotebook import tqdm as notebook_tqdm\n"
     ]
    }
   ],
   "source": [
    "from pathlib import Path\n",
    "import torch\n",
    "import torch.nn as nn\n",
    "from config import get_config, get_weights_file_path\n",
    "from train import get_model, get_ds, run_validation"
   ]
  },
  {
   "cell_type": "code",
   "execution_count": 2,
   "metadata": {},
   "outputs": [
    {
     "name": "stdout",
     "output_type": "stream",
     "text": [
      "Using device: cuda\n",
      "Max length of source sentence: 767\n",
      "Max length of target sentence: 782\n"
     ]
    },
    {
     "data": {
      "text/plain": [
       "<All keys matched successfully>"
      ]
     },
     "execution_count": 2,
     "metadata": {},
     "output_type": "execute_result"
    }
   ],
   "source": [
    "# Define the device\n",
    "device = torch.device(\"cuda\" if torch.cuda.is_available() else \"cpu\")\n",
    "print(\"Using device:\", device)\n",
    "config = get_config()\n",
    "train_dataloader, val_dataloader, tokenizer_src, tokenizer_tgt = get_ds(config)\n",
    "model = get_model(config, tokenizer_src.get_vocab_size(), tokenizer_tgt.get_vocab_size()).to(device)\n",
    "\n",
    "# Load the pretrained weights\n",
    "model_filename = get_weights_file_path(config, f\"29\")\n",
    "state = torch.load(model_filename)\n",
    "model.load_state_dict(state[\"model_state_dict\"])"
   ]
  },
  {
   "cell_type": "code",
   "execution_count": 3,
   "metadata": {},
   "outputs": [
    {
     "name": "stdout",
     "output_type": "stream",
     "text": [
      "--------------------------------------------------------------------------------\n",
      "SOURCE: \"But is it not possible, captain, that the water flows away at the bottom of the lake,\" said Herbert, \"and that it reaches the sea by some subterranean passage?\"\n",
      "TARGET: –¿Pero no es posible, señor Ciro –observó Harbert–, que las aguas se escapen por el fondo mismo del lago y vayan al mar por algún conducto subterráneo?\n",
      "PREDICTED: – Pero ¿ no es posible , señor Ciro , que las aguas se por el fondo del lago – dijo Harbert –, y vayan al mar por algún conducto subterráneo ?\n",
      "--------------------------------------------------------------------------------\n",
      "SOURCE: Savages often kindle wood by means of rapid rubbing.\n",
      "TARGET: Es cierto que los salvajes encienden la madera con un frotamiento rápido; pero no toda clase de madera vale para esta operación, y, además, tienen “maña”, según la expresión consagrada, y probablemente Pencroff no la tenía.\n",
      "PREDICTED: Es cierto que los salvajes siempre al manera de matar el fuego .\n",
      "--------------------------------------------------------------------------------\n",
      "SOURCE: He knew several French and English songs, and resolved to try them upon the Japanese, who must be lovers of music, since they were for ever pounding on their cymbals, tam-tams, and tambourines, and could not but appreciate European talent.\n",
      "TARGET: Sabía algunas copias de Francia y de Inglaterra, y resolvió ensayarlas. Los japoneses debían, seguramente, ser aficionados a la música, puesto que todo se hace entre ellos a son de timbales, tamtams y tambores, no pudiendo menos de apreciar, por consiguiente, el talento de un cantor europeo.\n",
      "PREDICTED: Sabía algunas canciones de francés y ingleses , que iban a probar a los propietarios de la casa , y que debían de ser enamorados , puesto que los nervios se hace al mundo de cerca de , y tambores , no pudiendo menos de apreciar el talento de los europeos .\n",
      "--------------------------------------------------------------------------------\n",
      "SOURCE: It brought on with tenfold force an attack of that strange repulsion to – he knew not whom; but at the same time he felt that the crisis he had hoped for had now come, that concealment from the husband was no longer possible, and that somehow or other the unnatural situation must be quickly ended.\n",
      "TARGET: En efecto, Vronsky, al oírla, experimentó diez veces más fuertemente que de costumbre la sensación de extraña repugnancia que solía poseerle con frecuencia. Por otro lado, comprendió que la crisis que él anhelaba había llegado, que era imposible ocultar más los hechos al marido y que de un modo a otro se tenía que acabar por fuerza con aquel estado de cosas.\n",
      "PREDICTED: Sentía una fuerza extraña para la desconocida de aquel extraño sentimiento que le aquella sensación , pero en el fondo se sentía que la situación que había producido hoy había pasado por la mañana , que ahora no se sentía más que un segundo , y que por la situación poco natural o por la que se iba a continuar .\n",
      "--------------------------------------------------------------------------------\n",
      "SOURCE: Besides...' she added, rapidly, and hardly repressing a smile, 'it really is bedtime.'\n",
      "TARGET: Y además –dijo Ana, muy deprisa, reprimiendo a duras penas una sonrisa–, creo que es hora ya de irse a acostar.\n",
      "PREDICTED: Además ... – añadió , impaciente , y sin hacer una sonrisa –. Es hora de acostarse , hora .\n",
      "--------------------------------------------------------------------------------\n",
      "SOURCE: \"That is to say,\" cried Marianne contemptuously, \"he has told you, that in the East Indies the climate is hot, and the mosquitoes are troublesome.\"\n",
      "TARGET: -Lo que significa -exclamó Marianne desdeñosamente- que te ha dicho que en las Indias Orientales el clima es cálido y que los mosquitos son una molestia.\n",
      "PREDICTED: - Eso quiere decir - exclamó Marianne desdeñosamente - que te ha dicho que en las Indias Orientales el clima es cálido y que los problemas son problemas para eso .\n",
      "--------------------------------------------------------------------------------\n",
      "SOURCE: But if you wish to travel, let us go!' and trying to appear interested in the journey she began to talk about the preparations for it.\n",
      "TARGET: Pero si usted cree conveniente que vayamos al extranjero, podemos ir –le dijo, y, para demostrar el interés que despertaba en ella aquel viaje, comenzó a hablar de los preparativos.\n",
      "PREDICTED: Pero si tú vas a ir , a su habitación y a hablar del viaje que Ana le decía lo que Daria Alejandrovna le hizo cambiar de viaje .\n",
      "--------------------------------------------------------------------------------\n",
      "SOURCE: Besides business – his sister's divorce and his post – it was as usual necessary for him, as he said, to refresh himself in Petersburg after the mustiness of Moscow.\n",
      "TARGET: Además de hacer las gestiones que allí le llevaban –ahora el divorcio de Ana, su colocación– se dedicaba a lo que él llamaba « refrescarse».\n",
      "PREDICTED: Además de la forma – el divorcio y su hermana – se habían marchado –, debía estar siempre lo del servicio , como él ha dicho , a su vez , en San Petersburgo , después de haber sido engañado por la broma de Moscú .\n",
      "--------------------------------------------------------------------------------\n",
      "SOURCE: Phileas Fogg looked at Sir Francis Cromarty for an explanation; but the general could not tell what meant a halt in the midst of this forest of dates and acacias.\n",
      "TARGET: Los viajeros se apean aquí. Phileas Fogg miró a sir Francis Cromarty, que pareció no comprender nada de esta detención en medio de un bosque de tamarindos y de khajoures.\n",
      "PREDICTED: Phileas Fogg miró a sir Francis Cromarty , que pareció , pero no se sabía qué decir con esto lo que estaba haciendo en medio de un bosque de y de .\n",
      "--------------------------------------------------------------------------------\n",
      "SOURCE: By the fire stood a little fellow of three years old, in plaid frock and trousers.\n",
      "TARGET: Junto al fuego había un niño de unos tres años con un trajecito a rayas.\n",
      "PREDICTED: Junto al fuego había un niño de unos tres años con un a rayas .\n"
     ]
    }
   ],
   "source": [
    "run_validation(model, val_dataloader, tokenizer_src, tokenizer_tgt, config[\"seq_len\"], device, lambda msg: print(msg), 0, False, num_examples=10)"
   ]
  }
 ],
 "metadata": {
  "kernelspec": {
   "display_name": "base",
   "language": "python",
   "name": "python3"
  },
  "language_info": {
   "codemirror_mode": {
    "name": "ipython",
    "version": 3
   },
   "file_extension": ".py",
   "mimetype": "text/x-python",
   "name": "python",
   "nbconvert_exporter": "python",
   "pygments_lexer": "ipython3",
   "version": "3.10.13"
  }
 },
 "nbformat": 4,
 "nbformat_minor": 2
}
